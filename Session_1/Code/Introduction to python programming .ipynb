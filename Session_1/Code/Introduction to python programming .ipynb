{
 "cells": [
  {
   "cell_type": "markdown",
   "metadata": {},
   "source": [
    "# **Session 1**\n",
    "## **Part one**: \n",
    "## Introductoin to python programming "
   ]
  },
  {
   "cell_type": "markdown",
   "metadata": {},
   "source": [
    "-----"
   ]
  },
  {
   "cell_type": "markdown",
   "metadata": {},
   "source": [
    "### **guidelines**\n",
    "\n",
    "* what is python \n",
    "* History of python \n",
    "* Python programming paradigms\n",
    "* Python Usage\n",
    " "
   ]
  },
  {
   "cell_type": "markdown",
   "metadata": {},
   "source": [
    "----"
   ]
  },
  {
   "cell_type": "markdown",
   "metadata": {},
   "source": [
    "**What Is python**"
   ]
  },
  {
   "cell_type": "markdown",
   "metadata": {},
   "source": [
    "Python is a general-purpose, simple and easy to learn programming language \n",
    "\n",
    "which is\n",
    "\n",
    "* Free & open-source \n",
    "* Portable \n",
    "* Simple on syntax \n",
    "* Popular \n",
    "* Powerful \n",
    "* High Level Language\n",
    "* Interpreted \n",
    "* Interactive "
   ]
  },
  {
   "cell_type": "markdown",
   "metadata": {},
   "source": [
    "**History Of python**"
   ]
  },
  {
   "cell_type": "markdown",
   "metadata": {},
   "source": [
    "Python Invented by Guido van Rossum\n",
    "\n",
    "Python is successor to ABC programming language\n",
    "\n",
    "* 1980s --> conceived python \n",
    "* 1989  --> implmentatoin Began\n",
    "* 1994  --> Python 1.0\n",
    "* 2000  --> Python 2.0\n",
    "* 2008  --> python 3.0\n",
    "* .\n",
    "* .\n",
    "* 2021  --> python 3.9.6"
   ]
  },
  {
   "cell_type": "markdown",
   "metadata": {},
   "source": [
    "**Python programming paradigms**"
   ]
  },
  {
   "cell_type": "markdown",
   "metadata": {},
   "source": [
    "python support 2 main paradigms \n",
    "* Procedural\n",
    "* Object Oriented "
   ]
  },
  {
   "cell_type": "code",
   "execution_count": 1,
   "metadata": {},
   "outputs": [
    {
     "name": "stdout",
     "output_type": "stream",
     "text": [
      "name=  osama \n",
      " age=  20\n"
     ]
    }
   ],
   "source": [
    "# Procedural \n",
    "name = \"osama\"\n",
    "age = 20\n",
    "print(\"name= \",name,\"\\n\",\"age= \",age)"
   ]
  },
  {
   "cell_type": "code",
   "execution_count": 5,
   "metadata": {},
   "outputs": [
    {
     "name": "stdout",
     "output_type": "stream",
     "text": [
      "name= ali\n",
      " age= 19\n"
     ]
    }
   ],
   "source": [
    "#OOP\n",
    "def info (name, age):\n",
    "    n = name\n",
    "    a = age \n",
    "    return f\"name= {name}\\n age= {age}\"\n",
    "print(info(\"ali\",19))"
   ]
  },
  {
   "cell_type": "markdown",
   "metadata": {},
   "source": [
    "**Python Usage**"
   ]
  },
  {
   "cell_type": "markdown",
   "metadata": {},
   "source": [
    "* Web Applications\n",
    "* Desktop Applications\n",
    "* Console Applications\n",
    "* Machine Learning\n",
    "* Artificial Intelligence\n",
    "* Data Science\n",
    "* Data Mining"
   ]
  },
  {
   "cell_type": "markdown",
   "metadata": {},
   "source": [
    "## Thanks ❤"
   ]
  },
  {
   "cell_type": "markdown",
   "metadata": {},
   "source": []
  }
 ],
 "metadata": {
  "kernelspec": {
   "display_name": "Python 3.10.6 64-bit",
   "language": "python",
   "name": "python3"
  },
  "language_info": {
   "codemirror_mode": {
    "name": "ipython",
    "version": 3
   },
   "file_extension": ".py",
   "mimetype": "text/x-python",
   "name": "python",
   "nbconvert_exporter": "python",
   "pygments_lexer": "ipython3",
   "version": "3.10.6"
  },
  "orig_nbformat": 4,
  "vscode": {
   "interpreter": {
    "hash": "9a9cb064a66d6bf474623f10a32dcaa1e6bd1eee0b2ba988d2ac7a1661d857d6"
   }
  }
 },
 "nbformat": 4,
 "nbformat_minor": 2
}
